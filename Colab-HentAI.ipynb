{
  "nbformat": 4,
  "nbformat_minor": 0,
  "metadata": {
    "colab": {
      "name": "Colab-HentAI.ipynb",
      "provenance": [],
      "collapsed_sections": [],
      "private_outputs": true
    },
    "kernelspec": {
      "name": "python3",
      "display_name": "Python 3"
    },
    "accelerator": "GPU"
  },
  "cells": [
    {
      "cell_type": "markdown",
      "source": [
        "# Colab-HentAI\n",
        "\n",
        "Original repo: [natethegreate/hent-AI](https://github.com/natethegreate/hent-AI)\n",
        "\n",
        "My fork: [styler00dollar/Colab-hentAI](https://github.com/styler00dollar/Colab-hentAI)\n",
        "\n",
        "Much smaller and fixed colab. Installs like 20x faster."
      ],
      "metadata": {
        "id": "uj2nsFg628Fn"
      }
    },
    {
      "cell_type": "code",
      "metadata": {
        "id": "jZRvYf7xS1ER"
      },
      "source": [
        "!nvidia-smi"
      ],
      "execution_count": null,
      "outputs": []
    },
    {
      "cell_type": "code",
      "metadata": {
        "id": "HpUVONY0TU_t"
      },
      "source": [
        "# Mount Google Drive. Follow authentication below\n",
        "from google.colab import drive\n",
        "drive.mount('/content/drive', force_remount=True)"
      ],
      "execution_count": null,
      "outputs": []
    },
    {
      "cell_type": "code",
      "metadata": {
        "id": "GiNm4Kw3TmTf",
        "cellView": "form"
      },
      "source": [
        "#@title install\n",
        "# Get hent-AI repo\n",
        "%cd /content/\n",
        "!git clone https://github.com/natethegreate/hent-AI.git\n",
        "# Create directories, you'll only need to do this if you dont already have them in your drive\n",
        "!mkdir /content/drive/My\\ Drive/hent-AI/\n",
        "!mkdir /content/drive/My\\ Drive/hent-AI/videos\n",
        "!mkdir /content/drive/My\\ Drive/hent-AI/images\n",
        "!mkdir /content/drive/My\\ Drive/hent-AI/images/decensor_input\n",
        "!mkdir /content/drive/My\\ Drive/hent-AI/images/decensor_input_original\n",
        "# Get models, if you dont already have them.\n",
        "%cd \"/content/drive/My Drive/\"\n",
        "!wget --no-check-certificate \"https://de-next.owncube.com/index.php/s/mDGmi7NgdyyQRXL/download?path=%2F&files=4x_FatalPixels_340000_G.pth&downloadStartSecret=r4q3aw60ijm\" -O hent-AI/4x_FatalPixels_340000_G.pth\n",
        "!wget --no-check-certificate \"https://www.dropbox.com/s/zvf6vbx3hnm9r31/weights268.zip?dl=0\" -O hent-AI/weights.zip\n",
        "# Get requirements. This will take some time and lots of disk space. MAKE SURE TO PRESS THE \"RESTART RUNTIME\" BUTTON AT THE BOTTOM OF THE OUTPUT HERE\n",
        "%cd /content/hent-AI/\n",
        "!pip install --upgrade pip\n",
        "!pip install -r requirements-gpu.txt\n",
        "# Install mask rcnn\n",
        "!python setup.py install\n",
        "# Create folders if they are not already made. Ignore errors if they show up here.\n",
        "!mkdir ESR_temp/\n",
        "!mkdir ESR_temp/temp/\n",
        "!mkdir ESR_temp/ESR_out/\n",
        "!mkdir ESR_temp/temp2/\n",
        "# Extract both the hent-AI weights and the ESRGAN weights\n",
        "!unzip /content/drive/My\\ Drive/hent-AI/weights.zip\n",
        "# !7z x /content/drive/My\\ Drive/hent-AI/4x_FatalPixels_340000_G.7z\n",
        "!cp /content/drive/My\\ Drive/hent-AI/4x_FatalPixels_340000_G.pth . # Auto downloader will download .pth, so no need to extract it\n",
        "# Get ffmpeg just in case\n",
        "!pip install ffmpeg-python\n",
        "!add-apt-repository ppa:jon-severinsson/ffmpeg\n",
        "!apt-get update\n",
        "!apt-get install ffmpeg\n",
        "# model load hotfix\n",
        "!pip install h5py==2.10.0"
      ],
      "execution_count": null,
      "outputs": []
    },
    {
      "cell_type": "code",
      "metadata": {
        "id": "TgE4GkjwWEIp"
      },
      "source": [
        "%tensorflow_version 1.x\n",
        "%cd /content/hent-AI\n",
        "# Make sure videos are in the videos folder inside hent-AI. You may need to confirm y/n if a video will be overwritten.\n",
        "!python samples/hentai/hentai.py inference --weights=\"/content/hent-AI/weights.h5\" --sources=\"/content/drive/My Drive/hent-AI/videos/\" --dtype=esrgan\n",
        "\n",
        "# Use this if you want to detect bars on images for use with DCP. Make sure to comment-out all other lines.\n",
        "#!python samples/hentai/hentai.py inference --weights=\"/content/hent-AI/weights.h5\" --sources=\"/content/drive/My Drive/hent-AI/images/\"\" --dtype=bar --dcpdir=\"/content/drive/My Drive/hent-AI/images/\"\n",
        "\n",
        "# Use this if you want to detect mosaics on images for use with DCP. Make sure to comment-out all other lines.\n",
        "#!python samples/hentai/hentai.py inference --weights=\"/content/hent-AI/weights.h5\" --sources=\"/content/drive/My Drive/hent-AI/images/\"\" --dtype=mosaic --dcpdir=\"/content/drive/My Drive/hent-AI/images/\""
      ],
      "execution_count": null,
      "outputs": []
    }
  ]
}